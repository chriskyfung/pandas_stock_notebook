{
  "nbformat": 4,
  "nbformat_minor": 0,
  "metadata": {
    "colab": {
      "name": "pandas_hkstock_datareader.ipynb",
      "provenance": [],
      "collapsed_sections": [],
      "toc_visible": true,
      "include_colab_link": true
    },
    "kernelspec": {
      "name": "python3",
      "display_name": "Python 3"
    },
    "language_info": {
      "name": "python"
    }
  },
  "cells": [
    {
      "cell_type": "markdown",
      "metadata": {
        "id": "view-in-github",
        "colab_type": "text"
      },
      "source": [
        "<a href=\"https://colab.research.google.com/github/chriskyfung/pandas_stock_notebook/blob/main/pandas_hkstock_datareader.ipynb\" target=\"_parent\"><img src=\"https://colab.research.google.com/assets/colab-badge.svg\" alt=\"Open In Colab\"/></a>"
      ]
    },
    {
      "cell_type": "code",
      "metadata": {
        "id": "r1EXmSfwyUCr",
        "colab": {
          "base_uri": "https://localhost:8080/"
        },
        "outputId": "002dd8b6-3064-4965-f7a0-e09e49854c3f"
      },
      "source": [
        "!pip install -r requirement.txt"
      ],
      "execution_count": null,
      "outputs": [
        {
          "output_type": "stream",
          "text": [
            "\u001b[31mERROR: Could not open requirements file: [Errno 2] No such file or directory: 'requirement.txt'\u001b[0m\n"
          ],
          "name": "stdout"
        }
      ]
    },
    {
      "cell_type": "code",
      "metadata": {
        "id": "EAhkleoAx8Iq"
      },
      "source": [
        "from datetime import date, timedelta\n",
        "from termcolor import colored\n",
        "import pandas as pd\n",
        "import pandas_datareader as pdr\n",
        "import pandas_market_calendars as mcal\n",
        "import re"
      ],
      "execution_count": null,
      "outputs": []
    },
    {
      "cell_type": "code",
      "metadata": {
        "colab": {
          "base_uri": "https://localhost:8080/"
        },
        "id": "QSuidPcxMPTU",
        "outputId": "592403c8-6f72-46ba-ffd6-d1a924f1e332"
      },
      "source": [
        "# Create a calendar\n",
        "hkex = mcal.get_calendar('HKEX')\n",
        "\n",
        "today = date.today()\n",
        "past7days = today - timedelta(days=7)\n",
        "print(\"Today's date:\", today)\n",
        "\n",
        "# Show available calendars in the past 7 days\n",
        "open_dates = hkex.valid_days(past7days,today)\n",
        "print(f'\\nOpen dates (past 7 days):\\n {open_dates.date}')\n",
        "\n",
        "# Show the last stock open date\n",
        "last_open_date = open_dates[-1].date()\n",
        "print(f'\\nLast open date: {last_open_date}')"
      ],
      "execution_count": null,
      "outputs": [
        {
          "output_type": "stream",
          "text": [
            "Today's date: 2021-06-30\n",
            "\n",
            "Open dates (past 7 days):\n",
            " [datetime.date(2021, 6, 23) datetime.date(2021, 6, 24)\n",
            " datetime.date(2021, 6, 25) datetime.date(2021, 6, 28)\n",
            " datetime.date(2021, 6, 29) datetime.date(2021, 6, 30)]\n",
            "\n",
            "Last open date: 2021-06-30\n"
          ],
          "name": "stdout"
        }
      ]
    },
    {
      "cell_type": "code",
      "metadata": {
        "id": "NKnGNgl9x9Gi",
        "colab": {
          "base_uri": "https://localhost:8080/",
          "height": 597
        },
        "outputId": "57bfdad9-4102-4164-8ba9-a48f106e9c94"
      },
      "source": [
        "from stocks import stock_profile # 從 stocks.py 載入 stock_profile 類別\n",
        "  \n",
        "stocks = stock_profile()\n",
        "stocks.loadProfilefromJson('/content/stocks.json') # 從JSON文件讀入股票組合清單及股票名稱索引\n",
        "stocks.cacheDataFromYahoo(stocks.keys, last_open_date) # 從Yahoo下載股票組合之最近一天資料\n"
      ],
      "execution_count": null,
      "outputs": [
        {
          "output_type": "stream",
          "text": [
            "騰訊(0700.hk):\n"
          ],
          "name": "stdout"
        },
        {
          "output_type": "display_data",
          "data": {
            "text/html": [
              "<div>\n",
              "<style scoped>\n",
              "    .dataframe tbody tr th:only-of-type {\n",
              "        vertical-align: middle;\n",
              "    }\n",
              "\n",
              "    .dataframe tbody tr th {\n",
              "        vertical-align: top;\n",
              "    }\n",
              "\n",
              "    .dataframe thead th {\n",
              "        text-align: right;\n",
              "    }\n",
              "</style>\n",
              "<table border=\"1\" class=\"dataframe\">\n",
              "  <thead>\n",
              "    <tr style=\"text-align: right;\">\n",
              "      <th></th>\n",
              "      <th>High</th>\n",
              "      <th>Low</th>\n",
              "      <th>Open</th>\n",
              "      <th>Close</th>\n",
              "      <th>Volume</th>\n",
              "      <th>Adj Close</th>\n",
              "    </tr>\n",
              "    <tr>\n",
              "      <th>Date</th>\n",
              "      <th></th>\n",
              "      <th></th>\n",
              "      <th></th>\n",
              "      <th></th>\n",
              "      <th></th>\n",
              "      <th></th>\n",
              "    </tr>\n",
              "  </thead>\n",
              "  <tbody>\n",
              "    <tr>\n",
              "      <th>2021-06-30</th>\n",
              "      <td>597.5</td>\n",
              "      <td>584</td>\n",
              "      <td>597.5</td>\n",
              "      <td>584</td>\n",
              "      <td>13618352</td>\n",
              "      <td>584</td>\n",
              "    </tr>\n",
              "  </tbody>\n",
              "</table>\n",
              "</div>"
            ],
            "text/plain": [
              "             High  Low   Open  Close    Volume  Adj Close\n",
              "Date                                                     \n",
              "2021-06-30  597.5  584  597.5    584  13618352        584"
            ]
          },
          "metadata": {
            "tags": []
          }
        },
        {
          "output_type": "stream",
          "text": [
            "\n",
            "\n",
            "中石油(0857.hk):\n"
          ],
          "name": "stdout"
        },
        {
          "output_type": "display_data",
          "data": {
            "text/html": [
              "<div>\n",
              "<style scoped>\n",
              "    .dataframe tbody tr th:only-of-type {\n",
              "        vertical-align: middle;\n",
              "    }\n",
              "\n",
              "    .dataframe tbody tr th {\n",
              "        vertical-align: top;\n",
              "    }\n",
              "\n",
              "    .dataframe thead th {\n",
              "        text-align: right;\n",
              "    }\n",
              "</style>\n",
              "<table border=\"1\" class=\"dataframe\">\n",
              "  <thead>\n",
              "    <tr style=\"text-align: right;\">\n",
              "      <th></th>\n",
              "      <th>High</th>\n",
              "      <th>Low</th>\n",
              "      <th>Open</th>\n",
              "      <th>Close</th>\n",
              "      <th>Volume</th>\n",
              "      <th>Adj Close</th>\n",
              "    </tr>\n",
              "    <tr>\n",
              "      <th>Date</th>\n",
              "      <th></th>\n",
              "      <th></th>\n",
              "      <th></th>\n",
              "      <th></th>\n",
              "      <th></th>\n",
              "      <th></th>\n",
              "    </tr>\n",
              "  </thead>\n",
              "  <tbody>\n",
              "    <tr>\n",
              "      <th>2021-06-30</th>\n",
              "      <td>3.79</td>\n",
              "      <td>3.67</td>\n",
              "      <td>3.67</td>\n",
              "      <td>3.78</td>\n",
              "      <td>186178750</td>\n",
              "      <td>3.78</td>\n",
              "    </tr>\n",
              "  </tbody>\n",
              "</table>\n",
              "</div>"
            ],
            "text/plain": [
              "            High   Low  Open  Close     Volume  Adj Close\n",
              "Date                                                     \n",
              "2021-06-30  3.79  3.67  3.67   3.78  186178750       3.78"
            ]
          },
          "metadata": {
            "tags": []
          }
        },
        {
          "output_type": "stream",
          "text": [
            "\n",
            "\n",
            "中海油(0883.hk):\n"
          ],
          "name": "stdout"
        },
        {
          "output_type": "display_data",
          "data": {
            "text/html": [
              "<div>\n",
              "<style scoped>\n",
              "    .dataframe tbody tr th:only-of-type {\n",
              "        vertical-align: middle;\n",
              "    }\n",
              "\n",
              "    .dataframe tbody tr th {\n",
              "        vertical-align: top;\n",
              "    }\n",
              "\n",
              "    .dataframe thead th {\n",
              "        text-align: right;\n",
              "    }\n",
              "</style>\n",
              "<table border=\"1\" class=\"dataframe\">\n",
              "  <thead>\n",
              "    <tr style=\"text-align: right;\">\n",
              "      <th></th>\n",
              "      <th>High</th>\n",
              "      <th>Low</th>\n",
              "      <th>Open</th>\n",
              "      <th>Close</th>\n",
              "      <th>Volume</th>\n",
              "      <th>Adj Close</th>\n",
              "    </tr>\n",
              "    <tr>\n",
              "      <th>Date</th>\n",
              "      <th></th>\n",
              "      <th></th>\n",
              "      <th></th>\n",
              "      <th></th>\n",
              "      <th></th>\n",
              "      <th></th>\n",
              "    </tr>\n",
              "  </thead>\n",
              "  <tbody>\n",
              "    <tr>\n",
              "      <th>2021-06-30</th>\n",
              "      <td>9.03</td>\n",
              "      <td>8.81</td>\n",
              "      <td>8.88</td>\n",
              "      <td>8.83</td>\n",
              "      <td>68328296</td>\n",
              "      <td>8.83</td>\n",
              "    </tr>\n",
              "  </tbody>\n",
              "</table>\n",
              "</div>"
            ],
            "text/plain": [
              "            High   Low  Open  Close    Volume  Adj Close\n",
              "Date                                                    \n",
              "2021-06-30  9.03  8.81  8.88   8.83  68328296       8.83"
            ]
          },
          "metadata": {
            "tags": []
          }
        },
        {
          "output_type": "stream",
          "text": [
            "\n",
            "\n",
            "小米(1810.hk):\n"
          ],
          "name": "stdout"
        },
        {
          "output_type": "display_data",
          "data": {
            "text/html": [
              "<div>\n",
              "<style scoped>\n",
              "    .dataframe tbody tr th:only-of-type {\n",
              "        vertical-align: middle;\n",
              "    }\n",
              "\n",
              "    .dataframe tbody tr th {\n",
              "        vertical-align: top;\n",
              "    }\n",
              "\n",
              "    .dataframe thead th {\n",
              "        text-align: right;\n",
              "    }\n",
              "</style>\n",
              "<table border=\"1\" class=\"dataframe\">\n",
              "  <thead>\n",
              "    <tr style=\"text-align: right;\">\n",
              "      <th></th>\n",
              "      <th>High</th>\n",
              "      <th>Low</th>\n",
              "      <th>Open</th>\n",
              "      <th>Close</th>\n",
              "      <th>Volume</th>\n",
              "      <th>Adj Close</th>\n",
              "    </tr>\n",
              "    <tr>\n",
              "      <th>Date</th>\n",
              "      <th></th>\n",
              "      <th></th>\n",
              "      <th></th>\n",
              "      <th></th>\n",
              "      <th></th>\n",
              "      <th></th>\n",
              "    </tr>\n",
              "  </thead>\n",
              "  <tbody>\n",
              "    <tr>\n",
              "      <th>2021-06-30</th>\n",
              "      <td>27.65</td>\n",
              "      <td>26.85</td>\n",
              "      <td>27.5</td>\n",
              "      <td>27</td>\n",
              "      <td>72207758</td>\n",
              "      <td>27</td>\n",
              "    </tr>\n",
              "  </tbody>\n",
              "</table>\n",
              "</div>"
            ],
            "text/plain": [
              "             High    Low  Open  Close    Volume  Adj Close\n",
              "Date                                                      \n",
              "2021-06-30  27.65  26.85  27.5     27  72207758         27"
            ]
          },
          "metadata": {
            "tags": []
          }
        },
        {
          "output_type": "stream",
          "text": [
            "\n",
            "\n"
          ],
          "name": "stdout"
        }
      ]
    },
    {
      "cell_type": "code",
      "metadata": {
        "colab": {
          "base_uri": "https://localhost:8080/"
        },
        "id": "amiOhvC3fKNd",
        "outputId": "4e9ffeca-836b-4aa9-e45b-3751c1034827"
      },
      "source": [
        "asked_stock = input('Enter a stock code/name: ') # 詢問要查閱的股票代號/名稱\n",
        "\n",
        "stock_key = None\n",
        "stock_name = None\n",
        "# 判辨輸入的字串是股票代號還是股票名稱\n",
        "if re.match('\\d+\\.\\w+', asked_stock):\n",
        "  stock_key = asked_stock.lower()\n",
        "  stock_name = stocks.getNameByCode(stock_key)\n",
        "else:\n",
        "  stock_key = stocks.getCodeByName(asked_stock)\n",
        "  stock_name = asked_stock\n",
        "# 從快取要查閱的股票資料\n",
        "if (stock_key in stocks.df_dict):\n",
        "  df = stocks.df_dict[stock_key]\n",
        "  columns = list(df) # or df.columns\n",
        "  # 將最近一天的資料Print到屏幕輸出\n",
        "  print(f'\\nStock data of {stock_name}({stock_key}) on the last open day ({last_open_date})\\n')\n",
        "  for column in columns:\n",
        "    print(f'{column:9s}: {df.iloc[-1].loc[column]:>15,.2f}')\n",
        "else:\n",
        "  # 如果沒有快取，則輸出紅色的文字提示！\n",
        "  print(colored(f'\\nCannot find \"{asked_stock}\" from the cached data', 'red'))"
      ],
      "execution_count": null,
      "outputs": [
        {
          "output_type": "stream",
          "text": [
            "Enter a stock code/name: 中石油\n",
            "\n",
            "Stock data of 中石油(0857.hk) on the last open day (2021-06-30)\n",
            "\n",
            "High     :            3.79\n",
            "Low      :            3.67\n",
            "Open     :            3.67\n",
            "Close    :            3.78\n",
            "Volume   :  186,178,750.00\n",
            "Adj Close:            3.78\n"
          ],
          "name": "stdout"
        }
      ]
    }
  ]
}