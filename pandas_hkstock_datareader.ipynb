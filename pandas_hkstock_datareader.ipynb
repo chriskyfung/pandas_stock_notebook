{
  "nbformat": 4,
  "nbformat_minor": 0,
  "metadata": {
    "colab": {
      "name": "pandas_hkstock_datareader.ipynb",
      "provenance": [],
      "collapsed_sections": [],
      "include_colab_link": true
    },
    "kernelspec": {
      "name": "python3",
      "display_name": "Python 3"
    },
    "language_info": {
      "name": "python"
    }
  },
  "cells": [
    {
      "cell_type": "markdown",
      "metadata": {
        "id": "view-in-github",
        "colab_type": "text"
      },
      "source": [
        "<a href=\"https://colab.research.google.com/github/chriskyfung/pandas_stock_notebook/blob/main/pandas_hkstock_datareader.ipynb\" target=\"_parent\"><img src=\"https://colab.research.google.com/assets/colab-badge.svg\" alt=\"Open In Colab\"/></a>"
      ]
    },
    {
      "cell_type": "code",
      "metadata": {
        "colab": {
          "base_uri": "https://localhost:8080/"
        },
        "id": "V9CV6Ceb4lhV",
        "outputId": "a73fac02-cbec-40d8-ebe1-69c9f34a9ada"
      },
      "source": [
        "# Clone the entire repo.\n",
        "!git clone -l -s https://github.com/chriskyfung/pandas_stock_notebook.git\n",
        "%cd pandas_stock_notebook\n",
        "!ls"
      ],
      "execution_count": 3,
      "outputs": [
        {
          "output_type": "stream",
          "text": [
            "fatal: destination path 'pandas_stock_notebook' already exists and is not an empty directory.\n",
            "/content/pandas_stock_notebook\n",
            "pandas_hkstock_datareader.ipynb  requirements.txt  stocks.py\n",
            "README.md\t\t\t stocks.json\n"
          ],
          "name": "stdout"
        }
      ]
    },
    {
      "cell_type": "code",
      "metadata": {
        "id": "r1EXmSfwyUCr",
        "colab": {
          "base_uri": "https://localhost:8080/"
        },
        "outputId": "72ae08ef-10f1-47fc-f4bb-c9f28b9383a4"
      },
      "source": [
        "!pip install -r requirements.txt"
      ],
      "execution_count": 4,
      "outputs": [
        {
          "output_type": "stream",
          "text": [
            "Requirement already satisfied: numpy==1.21.0 in /usr/local/lib/python3.7/dist-packages (from -r requirements.txt (line 1)) (1.21.0)\n",
            "Requirement already satisfied: pandas==1.2.5 in /usr/local/lib/python3.7/dist-packages (from -r requirements.txt (line 2)) (1.2.5)\n",
            "Requirement already satisfied: pandas-datareader==0.9.0 in /usr/local/lib/python3.7/dist-packages (from -r requirements.txt (line 3)) (0.9.0)\n",
            "Requirement already satisfied: pandas-market-calendars==2.0 in /usr/local/lib/python3.7/dist-packages (from -r requirements.txt (line 4)) (2.0)\n",
            "Requirement already satisfied: termcolor==1.1.0 in /usr/local/lib/python3.7/dist-packages (from -r requirements.txt (line 5)) (1.1.0)\n",
            "Requirement already satisfied: python-dateutil>=2.7.3 in /usr/local/lib/python3.7/dist-packages (from pandas==1.2.5->-r requirements.txt (line 2)) (2.8.1)\n",
            "Requirement already satisfied: pytz>=2017.3 in /usr/local/lib/python3.7/dist-packages (from pandas==1.2.5->-r requirements.txt (line 2)) (2018.9)\n",
            "Requirement already satisfied: lxml in /usr/local/lib/python3.7/dist-packages (from pandas-datareader==0.9.0->-r requirements.txt (line 3)) (4.2.6)\n",
            "Requirement already satisfied: requests>=2.19.0 in /usr/local/lib/python3.7/dist-packages (from pandas-datareader==0.9.0->-r requirements.txt (line 3)) (2.23.0)\n",
            "Requirement already satisfied: exchange-calendars in /usr/local/lib/python3.7/dist-packages (from pandas-market-calendars==2.0->-r requirements.txt (line 4)) (3.1.0)\n",
            "Requirement already satisfied: six>=1.5 in /usr/local/lib/python3.7/dist-packages (from python-dateutil>=2.7.3->pandas==1.2.5->-r requirements.txt (line 2)) (1.15.0)\n",
            "Requirement already satisfied: urllib3!=1.25.0,!=1.25.1,<1.26,>=1.21.1 in /usr/local/lib/python3.7/dist-packages (from requests>=2.19.0->pandas-datareader==0.9.0->-r requirements.txt (line 3)) (1.24.3)\n",
            "Requirement already satisfied: chardet<4,>=3.0.2 in /usr/local/lib/python3.7/dist-packages (from requests>=2.19.0->pandas-datareader==0.9.0->-r requirements.txt (line 3)) (3.0.4)\n",
            "Requirement already satisfied: certifi>=2017.4.17 in /usr/local/lib/python3.7/dist-packages (from requests>=2.19.0->pandas-datareader==0.9.0->-r requirements.txt (line 3)) (2021.5.30)\n",
            "Requirement already satisfied: idna<3,>=2.5 in /usr/local/lib/python3.7/dist-packages (from requests>=2.19.0->pandas-datareader==0.9.0->-r requirements.txt (line 3)) (2.10)\n",
            "Requirement already satisfied: toolz in /usr/local/lib/python3.7/dist-packages (from exchange-calendars->pandas-market-calendars==2.0->-r requirements.txt (line 4)) (0.11.1)\n",
            "Requirement already satisfied: pyluach in /usr/local/lib/python3.7/dist-packages (from exchange-calendars->pandas-market-calendars==2.0->-r requirements.txt (line 4)) (1.3.0)\n"
          ],
          "name": "stdout"
        }
      ]
    },
    {
      "cell_type": "code",
      "metadata": {
        "id": "EAhkleoAx8Iq",
        "colab": {
          "base_uri": "https://localhost:8080/"
        },
        "outputId": "1e85d6cf-30de-4336-ad73-98e44430b9e6"
      },
      "source": [
        "from datetime import date, timedelta\n",
        "import pandas as pd\n",
        "import pandas_market_calendars as mcal\n",
        "\n",
        "# Create a calendar\n",
        "hkex = mcal.get_calendar('HKEX')\n",
        "\n",
        "today = date.today()\n",
        "past7days = today - timedelta(days=7)\n",
        "print(\"Today's date:\", today)\n",
        "\n",
        "# Show available calendars in the past 7 days\n",
        "open_dates = hkex.valid_days(past7days,today)\n",
        "print(f'\\nOpen dates (past 7 days):\\n {open_dates.date}')\n",
        "\n",
        "# Show the last stock open date\n",
        "last_open_date = open_dates[-1].date()\n",
        "print(f'\\nLast open date: {last_open_date}')"
      ],
      "execution_count": 10,
      "outputs": [
        {
          "output_type": "stream",
          "text": [
            "Today's date: 2021-06-30\n",
            "\n",
            "Open dates (past 7 days):\n",
            " [datetime.date(2021, 6, 23) datetime.date(2021, 6, 24)\n",
            " datetime.date(2021, 6, 25) datetime.date(2021, 6, 28)\n",
            " datetime.date(2021, 6, 29) datetime.date(2021, 6, 30)]\n",
            "\n",
            "Last open date: 2021-06-30\n"
          ],
          "name": "stdout"
        }
      ]
    },
    {
      "cell_type": "code",
      "metadata": {
        "id": "NKnGNgl9x9Gi",
        "colab": {
          "base_uri": "https://localhost:8080/",
          "height": 597
        },
        "outputId": "59553801-0706-401d-80f4-26d06cfadd12"
      },
      "source": [
        "from stocks import stock_profile # 從 stocks.py 載入 stock_profile 類別\n",
        "  \n",
        "stocks = stock_profile()\n",
        "stocks.loadJsonProfile('./stocks.json') # 從JSON文件讀入股票組合清單及股票名稱索引\n",
        "stocks.cacheFromYahooData(stocks.listing, last_open_date) # 從Yahoo下載股票組合之最近一天資料\n"
      ],
      "execution_count": 11,
      "outputs": [
        {
          "output_type": "stream",
          "text": [
            "騰訊(0700.hk):\n"
          ],
          "name": "stdout"
        },
        {
          "output_type": "display_data",
          "data": {
            "text/html": [
              "<div>\n",
              "<style scoped>\n",
              "    .dataframe tbody tr th:only-of-type {\n",
              "        vertical-align: middle;\n",
              "    }\n",
              "\n",
              "    .dataframe tbody tr th {\n",
              "        vertical-align: top;\n",
              "    }\n",
              "\n",
              "    .dataframe thead th {\n",
              "        text-align: right;\n",
              "    }\n",
              "</style>\n",
              "<table border=\"1\" class=\"dataframe\">\n",
              "  <thead>\n",
              "    <tr style=\"text-align: right;\">\n",
              "      <th></th>\n",
              "      <th>High</th>\n",
              "      <th>Low</th>\n",
              "      <th>Open</th>\n",
              "      <th>Close</th>\n",
              "      <th>Volume</th>\n",
              "      <th>Adj Close</th>\n",
              "    </tr>\n",
              "    <tr>\n",
              "      <th>Date</th>\n",
              "      <th></th>\n",
              "      <th></th>\n",
              "      <th></th>\n",
              "      <th></th>\n",
              "      <th></th>\n",
              "      <th></th>\n",
              "    </tr>\n",
              "  </thead>\n",
              "  <tbody>\n",
              "    <tr>\n",
              "      <th>2021-06-30</th>\n",
              "      <td>597.5</td>\n",
              "      <td>584</td>\n",
              "      <td>597.5</td>\n",
              "      <td>584</td>\n",
              "      <td>13618352</td>\n",
              "      <td>584</td>\n",
              "    </tr>\n",
              "  </tbody>\n",
              "</table>\n",
              "</div>"
            ],
            "text/plain": [
              "             High  Low   Open  Close    Volume  Adj Close\n",
              "Date                                                     \n",
              "2021-06-30  597.5  584  597.5    584  13618352        584"
            ]
          },
          "metadata": {
            "tags": []
          }
        },
        {
          "output_type": "stream",
          "text": [
            "\n",
            "\n",
            "中石油(0857.hk):\n"
          ],
          "name": "stdout"
        },
        {
          "output_type": "display_data",
          "data": {
            "text/html": [
              "<div>\n",
              "<style scoped>\n",
              "    .dataframe tbody tr th:only-of-type {\n",
              "        vertical-align: middle;\n",
              "    }\n",
              "\n",
              "    .dataframe tbody tr th {\n",
              "        vertical-align: top;\n",
              "    }\n",
              "\n",
              "    .dataframe thead th {\n",
              "        text-align: right;\n",
              "    }\n",
              "</style>\n",
              "<table border=\"1\" class=\"dataframe\">\n",
              "  <thead>\n",
              "    <tr style=\"text-align: right;\">\n",
              "      <th></th>\n",
              "      <th>High</th>\n",
              "      <th>Low</th>\n",
              "      <th>Open</th>\n",
              "      <th>Close</th>\n",
              "      <th>Volume</th>\n",
              "      <th>Adj Close</th>\n",
              "    </tr>\n",
              "    <tr>\n",
              "      <th>Date</th>\n",
              "      <th></th>\n",
              "      <th></th>\n",
              "      <th></th>\n",
              "      <th></th>\n",
              "      <th></th>\n",
              "      <th></th>\n",
              "    </tr>\n",
              "  </thead>\n",
              "  <tbody>\n",
              "    <tr>\n",
              "      <th>2021-06-30</th>\n",
              "      <td>3.79</td>\n",
              "      <td>3.67</td>\n",
              "      <td>3.67</td>\n",
              "      <td>3.78</td>\n",
              "      <td>186178750</td>\n",
              "      <td>3.78</td>\n",
              "    </tr>\n",
              "  </tbody>\n",
              "</table>\n",
              "</div>"
            ],
            "text/plain": [
              "            High   Low  Open  Close     Volume  Adj Close\n",
              "Date                                                     \n",
              "2021-06-30  3.79  3.67  3.67   3.78  186178750       3.78"
            ]
          },
          "metadata": {
            "tags": []
          }
        },
        {
          "output_type": "stream",
          "text": [
            "\n",
            "\n",
            "中海油(0883.hk):\n"
          ],
          "name": "stdout"
        },
        {
          "output_type": "display_data",
          "data": {
            "text/html": [
              "<div>\n",
              "<style scoped>\n",
              "    .dataframe tbody tr th:only-of-type {\n",
              "        vertical-align: middle;\n",
              "    }\n",
              "\n",
              "    .dataframe tbody tr th {\n",
              "        vertical-align: top;\n",
              "    }\n",
              "\n",
              "    .dataframe thead th {\n",
              "        text-align: right;\n",
              "    }\n",
              "</style>\n",
              "<table border=\"1\" class=\"dataframe\">\n",
              "  <thead>\n",
              "    <tr style=\"text-align: right;\">\n",
              "      <th></th>\n",
              "      <th>High</th>\n",
              "      <th>Low</th>\n",
              "      <th>Open</th>\n",
              "      <th>Close</th>\n",
              "      <th>Volume</th>\n",
              "      <th>Adj Close</th>\n",
              "    </tr>\n",
              "    <tr>\n",
              "      <th>Date</th>\n",
              "      <th></th>\n",
              "      <th></th>\n",
              "      <th></th>\n",
              "      <th></th>\n",
              "      <th></th>\n",
              "      <th></th>\n",
              "    </tr>\n",
              "  </thead>\n",
              "  <tbody>\n",
              "    <tr>\n",
              "      <th>2021-06-30</th>\n",
              "      <td>9.03</td>\n",
              "      <td>8.81</td>\n",
              "      <td>8.88</td>\n",
              "      <td>8.83</td>\n",
              "      <td>68328296</td>\n",
              "      <td>8.83</td>\n",
              "    </tr>\n",
              "  </tbody>\n",
              "</table>\n",
              "</div>"
            ],
            "text/plain": [
              "            High   Low  Open  Close    Volume  Adj Close\n",
              "Date                                                    \n",
              "2021-06-30  9.03  8.81  8.88   8.83  68328296       8.83"
            ]
          },
          "metadata": {
            "tags": []
          }
        },
        {
          "output_type": "stream",
          "text": [
            "\n",
            "\n",
            "小米(1810.hk):\n"
          ],
          "name": "stdout"
        },
        {
          "output_type": "display_data",
          "data": {
            "text/html": [
              "<div>\n",
              "<style scoped>\n",
              "    .dataframe tbody tr th:only-of-type {\n",
              "        vertical-align: middle;\n",
              "    }\n",
              "\n",
              "    .dataframe tbody tr th {\n",
              "        vertical-align: top;\n",
              "    }\n",
              "\n",
              "    .dataframe thead th {\n",
              "        text-align: right;\n",
              "    }\n",
              "</style>\n",
              "<table border=\"1\" class=\"dataframe\">\n",
              "  <thead>\n",
              "    <tr style=\"text-align: right;\">\n",
              "      <th></th>\n",
              "      <th>High</th>\n",
              "      <th>Low</th>\n",
              "      <th>Open</th>\n",
              "      <th>Close</th>\n",
              "      <th>Volume</th>\n",
              "      <th>Adj Close</th>\n",
              "    </tr>\n",
              "    <tr>\n",
              "      <th>Date</th>\n",
              "      <th></th>\n",
              "      <th></th>\n",
              "      <th></th>\n",
              "      <th></th>\n",
              "      <th></th>\n",
              "      <th></th>\n",
              "    </tr>\n",
              "  </thead>\n",
              "  <tbody>\n",
              "    <tr>\n",
              "      <th>2021-06-30</th>\n",
              "      <td>27.65</td>\n",
              "      <td>26.85</td>\n",
              "      <td>27.5</td>\n",
              "      <td>27</td>\n",
              "      <td>72207758</td>\n",
              "      <td>27</td>\n",
              "    </tr>\n",
              "  </tbody>\n",
              "</table>\n",
              "</div>"
            ],
            "text/plain": [
              "             High    Low  Open  Close    Volume  Adj Close\n",
              "Date                                                      \n",
              "2021-06-30  27.65  26.85  27.5     27  72207758         27"
            ]
          },
          "metadata": {
            "tags": []
          }
        },
        {
          "output_type": "stream",
          "text": [
            "\n",
            "\n"
          ],
          "name": "stdout"
        }
      ]
    },
    {
      "cell_type": "code",
      "metadata": {
        "colab": {
          "base_uri": "https://localhost:8080/"
        },
        "id": "amiOhvC3fKNd",
        "outputId": "65deac00-4d74-497b-e092-230d4e6090f0"
      },
      "source": [
        "from termcolor import colored\n",
        "import re\n",
        "\n",
        "asked_stock = input('Enter a stock code/name: ') # 詢問要查閱的股票代號/名稱\n",
        "\n",
        "stock_code = None\n",
        "stock_name = None\n",
        "# 判辨輸入的字串是股票代號還是股票名稱\n",
        "if re.match('\\d+\\.\\w+', asked_stock):\n",
        "  stock_code = asked_stock.lower()\n",
        "  stock_name = stocks.code2name(stock_code)\n",
        "else:\n",
        "  stock_code = stocks.name2code(asked_stock)\n",
        "  stock_name = asked_stock\n",
        "# 從快取要查閱的股票資料\n",
        "if (stock_code in stocks.dataframes):\n",
        "  df = stocks.dataframes[stock_code]\n",
        "  columns = list(df) # or df.columns\n",
        "  # 將最近一天的資料Print到屏幕輸出\n",
        "  print(f'\\nStock data of {stock_name}({stock_code}) on the last open day ({last_open_date})\\n')\n",
        "  for column in columns:\n",
        "    print(f'{column:9s}: {df.iloc[-1].loc[column]:>15,.2f}')\n",
        "else:\n",
        "  # 如果沒有快取，則輸出紅色的文字提示！\n",
        "  print(colored(f'\\nCannot find \"{asked_stock}\" from the cached data', 'red'))"
      ],
      "execution_count": 12,
      "outputs": [
        {
          "output_type": "stream",
          "text": [
            "Enter a stock code/name: 0883.hk\n",
            "\n",
            "Stock data of 中海油(0883.hk) on the last open day (2021-06-30)\n",
            "\n",
            "High     :            9.03\n",
            "Low      :            8.81\n",
            "Open     :            8.88\n",
            "Close    :            8.83\n",
            "Volume   :   68,328,296.00\n",
            "Adj Close:            8.83\n"
          ],
          "name": "stdout"
        }
      ]
    }
  ]
}